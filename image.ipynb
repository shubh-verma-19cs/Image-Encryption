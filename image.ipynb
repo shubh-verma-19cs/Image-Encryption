{
 "cells": [
  {
   "cell_type": "code",
   "execution_count": 40,
   "source": [
    "import cv2\n",
    "import numpy as np\n",
    "import random\n",
    "from PIL import Image\n",
    "import matplotlib.pyplot as plt\n",
    "import matplotlib as mpl"
   ],
   "outputs": [],
   "metadata": {}
  },
  {
   "cell_type": "code",
   "execution_count": 41,
   "source": [
    "mpl.rcParams['agg.path.chunksize'] = 10000\n",
    "image = cv2.imread(\"minecraft.jpg\", 0)\n",
    "key_image = cv2.imread(\"city.jpg\", 0)\n",
    "key_image.resize(image.shape)\n",
    "cv2.imshow(\"Image\", image)\n",
    "cv2.waitKey(0)\n",
    "cv2.destroyAllWindows()\n",
    "\n",
    "cv2.imshow(\"Key Image\", key_image)\n",
    "cv2.waitKey(0)\n",
    "cv2.destroyAllWindows()\n",
    "\n",
    "print(image.shape)\n",
    "print(key_image.shape)"
   ],
   "outputs": [
    {
     "output_type": "stream",
     "name": "stdout",
     "text": [
      "(1024, 2304)\n",
      "(1024, 2304)\n"
     ]
    }
   ],
   "metadata": {}
  },
  {
   "cell_type": "code",
   "execution_count": 43,
   "source": [
    "def fusion(image, key_image, w):\n",
    "    matr_image = np.asarray(image)\n",
    "    matr_key_image = np.asarray(key_image)\n",
    "    matr_fused_image = np.zeros(image.shape)\n",
    "    matr_fused_image = (w*(matr_key_image-matr_image)+matr_image)\n",
    "    img = Image.fromarray(matr_fused_image)\n",
    "    img.show()\n",
    "    print(np.size(matr_fused_image))\n",
    "    return matr_fused_image"
   ],
   "outputs": [],
   "metadata": {}
  },
  {
   "cell_type": "code",
   "execution_count": 44,
   "source": [
    "def henon_attractor(x, y, a=1.4, b=0.3):\n",
    "\tx_next = 1 - a * x ** 2 + y\n",
    "\ty_next = b * x\n",
    "\treturn x_next, y_next"
   ],
   "outputs": [],
   "metadata": {}
  },
  {
   "cell_type": "code",
   "execution_count": 51,
   "source": [
    "def encrypt(matr_fused_image, a, b, x, y):\n",
    "    size = np.size(matr_fused_image)\n",
    "    x_array = np.zeros(size+1)\n",
    "    y_array = np.zeros(size+1)\n",
    "    y_array[0] = 0\n",
    "    x_array[0] = 0\n",
    "    for i in range(size):\n",
    "        x_next, y_next = henon_attractor(x_array[i], y_array[i])\n",
    "        x_array[i+1] = x_next\n",
    "        y_array[i+1] = y_next\n",
    "\n",
    "    # print(x_array, y_array)\n",
    "    plt.scatter(x_array, y_array, marker='.')\n",
    "    # plt.plot(x_array, y_array, 'ro', linestyle=\"None\")\n",
    "    plt.show()\n",
    "\n",
    "    #################ENCRYPTION##################\n"
   ],
   "outputs": [],
   "metadata": {}
  },
  {
   "cell_type": "code",
   "execution_count": 52,
   "source": [
    "# w = random.random()\n",
    "img = fusion(image, key_image, 0.9)\n",
    "encrypt(img, 1.3, 0.6, 1.2, 0.5)"
   ],
   "outputs": [
    {
     "output_type": "stream",
     "name": "stdout",
     "text": [
      "2359296\n"
     ]
    },
    {
     "output_type": "display_data",
     "data": {
      "image/png": "[encoded data removed]",
      "text/plain": [
       "<Figure size 432x288 with 1 Axes>"
      ]
     },
     "metadata": {
      "needs_background": "light"
     }
    }
   ],
   "metadata": {}
  }
 ],
 "metadata": {
  "orig_nbformat": 4,
  "language_info": {
   "name": "python",
   "version": "3.9.7",
   "mimetype": "text/x-python",
   "codemirror_mode": {
    "name": "ipython",
    "version": 3
   },
   "pygments_lexer": "ipython3",
   "nbconvert_exporter": "python",
   "file_extension": ".py"
  },
  "kernelspec": {
   "name": "python3",
   "display_name": "Python 3.9.7 64-bit"
  },
  "interpreter": {
   "hash": "e7370f93d1d0cde622a1f8e1c04877d8463912d04d973331ad4851f04de6915a"
  }
 },
 "nbformat": 4,
 "nbformat_minor": 2
}